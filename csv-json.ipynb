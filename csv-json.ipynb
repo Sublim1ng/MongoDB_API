{
 "cells": [
  {
   "cell_type": "code",
   "execution_count": 1,
   "id": "a0995297",
   "metadata": {},
   "outputs": [],
   "source": [
    "import csv\n",
    "import json\n",
    "import os\n",
    "import pandas as pd"
   ]
  },
  {
   "cell_type": "code",
   "execution_count": 2,
   "id": "84bbd9bc",
   "metadata": {},
   "outputs": [],
   "source": [
    "companies_csv = pd.read_csv(\"/Users/ningyuhan/Desktop/Mini_Project_2/mp2-data/companies.csv\")\n",
    "education_skills_csv = pd.read_csv(\"/Users/ningyuhan/Desktop/Mini_Project_2/mp2-data/education_and_skills.csv\")\n",
    "employment_details_csv = pd.read_csv(\"/Users/ningyuhan/Desktop/Mini_Project_2/mp2-data/employment_details.csv\")\n",
    "industry_info_csv = pd.read_csv(\"/Users/ningyuhan/Desktop/Mini_Project_2/mp2-data/industry_info.csv\")\n",
    "jobs_csv = pd.read_csv(\"/Users/ningyuhan/Desktop/Mini_Project_2/mp2-data/jobs.csv\")\n",
    "#companies_csv\n",
    "#education_skills_csv\n",
    "#employment_details_csv\n",
    "#industry_info_csv\n",
    "#job_csv"
   ]
  },
  {
   "cell_type": "code",
   "execution_count": 3,
   "id": "93df70b0",
   "metadata": {},
   "outputs": [],
   "source": [
    "# Merge DataFrames on 'id'\n",
    "merged_df = companies_csv\n",
    "dataframes = [education_skills_csv, employment_details_csv, industry_info_csv, jobs_csv]\n",
    "for df in dataframes:\n",
    "    merged_df = pd.merge(merged_df, df, on='id', how='outer')\n",
    "\n",
    "# Convert DataFrame to nested JSON and save\n",
    "nested_json = merged_df.to_json(orient='records', indent=4)\n",
    "with open(\"/Users/ningyuhan/Desktop/Mini_Project_2/merged_data.json\", 'w') as json_file:\n",
    "    json_file.write(nested_json)"
   ]
  },
  {
   "cell_type": "code",
   "execution_count": 4,
   "id": "a62862be",
   "metadata": {},
   "outputs": [],
   "source": [
    "def transform_to_nested(data):\n",
    "    nested_data = {\n",
    "        \"job_id\": data[\"job_id\"],\n",
    "        \"company\": {\n",
    "            \"name\": data[\"name\"],\n",
    "            \"size\": data[\"size\"],\n",
    "            \"type\": data[\"type\"],\n",
    "            \"location\": data[\"location\"],\n",
    "            \"website\": data[\"website\"],\n",
    "            \"description\": data[\"description_x\"],\n",
    "            \"hr_contact\": data[\"hr_contact\"]\n",
    "        },\n",
    "        \"job\": {\n",
    "            \"title\": data[\"title\"],\n",
    "            \"employment_type\": data[\"employment_type\"],\n",
    "            \"average_salary\": data[\"average_salary\"],\n",
    "            \"benefits\": data[\"benefits\"],\n",
    "            \"remote\": data[\"remote\"],\n",
    "            \"job_posting_url\": data[\"job_posting_url\"],\n",
    "            \"posting_date\": data[\"posting_date\"],\n",
    "            \"closing_date\": data[\"closing_date\"],\n",
    "            \"description\": data[\"description_y\"],\n",
    "            \"years_of_experience\": data[\"years_of_experience\"],\n",
    "            \"detailed_description\": data[\"detailed_description\"]\n",
    "        },\n",
    "        \"industry\": {\n",
    "            \"industry_name\": data[\"industry_name\"],\n",
    "            \"growth_rate\": data[\"growth_rate\"],\n",
    "            \"industry_skills\": data[\"industry_skills\"],\n",
    "            \"top_companies\": data[\"top_companies\"],\n",
    "            \"trends\": data[\"trends\"]\n",
    "        },\n",
    "        \"requirements\": {\n",
    "            \"required_education\": data[\"required_education\"],\n",
    "            \"preferred_skills\": data[\"preferred_skills\"],\n",
    "            \"responsibilities\": data[\"responsibilities\"],\n",
    "            \"requirements\": data[\"requirements\"]\n",
    "        }\n",
    "    }\n",
    "    return nested_data\n",
    "\n",
    "# Read the flat JSON data\n",
    "with open(\"/Users/ningyuhan/Desktop/Mini_Project_2/merged_data.json\", 'r') as file:\n",
    "    flat_data = json.load(file)\n",
    "\n",
    "# Transform each entry in the flat JSON to the nested structure\n",
    "nested_data_list = [transform_to_nested(entry) for entry in flat_data]\n",
    "\n",
    "# Save the nested JSON data\n",
    "with open(\"/Users/ningyuhan/Desktop/Mini_Project_2/nested_data.json\", 'w') as outfile:\n",
    "    json.dump(nested_data_list, outfile, indent=4)\n"
   ]
  },
  {
   "cell_type": "code",
   "execution_count": null,
   "id": "c04a2581",
   "metadata": {},
   "outputs": [],
   "source": []
  }
 ],
 "metadata": {
  "kernelspec": {
   "display_name": "Python 3 (ipykernel)",
   "language": "python",
   "name": "python3"
  },
  "language_info": {
   "codemirror_mode": {
    "name": "ipython",
    "version": 3
   },
   "file_extension": ".py",
   "mimetype": "text/x-python",
   "name": "python",
   "nbconvert_exporter": "python",
   "pygments_lexer": "ipython3",
   "version": "3.11.4"
  }
 },
 "nbformat": 4,
 "nbformat_minor": 5
}
